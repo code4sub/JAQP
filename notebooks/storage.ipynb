{
 "cells": [
  {
   "cell_type": "code",
   "execution_count": 1,
   "metadata": {},
   "outputs": [],
   "source": [
    "import pandas as pd\n",
    "import numpy as np"
   ]
  },
  {
   "cell_type": "code",
   "execution_count": 11,
   "metadata": {},
   "outputs": [
    {
     "name": "stdout",
     "output_type": "stream",
     "text": [
      "RS: 5034252.290000001\n",
      "128 5.911244533538819\n",
      "256 6.06124453353882\n",
      "512 6.3612445335388195\n",
      "1024 6.961244533538819\n"
     ]
    }
   ],
   "source": [
    "#rough estimation of storage if we were able to serialize it.\n",
    "\n",
    "'''\n",
    "Per PANode:\n",
    "    PreAgg:\n",
    "        Summary x 2\n",
    "            cnt/sum/avg\n",
    "            3 doubles\n",
    "        Predicates\n",
    "            2 double * n_attr\n",
    "        min/max heap:\n",
    "            10 entries each heap\n",
    "                hash string + value each entry\n",
    "    roughly and overest: 1024 per node\n",
    "    Stratum:\n",
    "        Row size * sample size\n",
    "\n",
    "For Taxi:\n",
    "\n",
    "Per summary est = 1024: \n",
    "\n",
    "'''\n",
    "\n",
    "population= 7667793\n",
    "samplerate=0.01\n",
    "perrow_bytes = 503425229/7667793\n",
    "print(\"RS:\", samplerate*population*perrow_bytes)\n",
    "for k in [128, 256, 512, 1024]:\n",
    "    total = samplerate*population*perrow_bytes + k*1024\n",
    "    print(k, 1.2*total/1024/1024)\n"
   ]
  },
  {
   "cell_type": "code",
   "execution_count": 6,
   "metadata": {},
   "outputs": [
    {
     "name": "stdout",
     "output_type": "stream",
     "text": [
      "5036300.290000001\n"
     ]
    }
   ],
   "source": [
    "print(pernode)"
   ]
  },
  {
   "cell_type": "code",
   "execution_count": null,
   "metadata": {},
   "outputs": [],
   "source": []
  }
 ],
 "metadata": {
  "kernelspec": {
   "display_name": "Python 3",
   "language": "python",
   "name": "python3"
  },
  "language_info": {
   "codemirror_mode": {
    "name": "ipython",
    "version": 3
   },
   "file_extension": ".py",
   "mimetype": "text/x-python",
   "name": "python",
   "nbconvert_exporter": "python",
   "pygments_lexer": "ipython3",
   "version": "3.7.4"
  }
 },
 "nbformat": 4,
 "nbformat_minor": 4
}
