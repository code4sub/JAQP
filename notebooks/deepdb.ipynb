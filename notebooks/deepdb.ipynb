{
 "cells": [
  {
   "cell_type": "code",
   "execution_count": 1,
   "metadata": {},
   "outputs": [],
   "source": [
    "import numpy as np\n",
    "import math\n",
    "import pandas as pd\n",
    "import hashlib, random\n",
    "from sklearn.mixture import GaussianMixture\n",
    "import copy\n",
    "import itertools\n",
    "import matplotlib.pyplot as plt\n",
    "from collections import defaultdict\n",
    "import seaborn as sns\n",
    "import jsonpickle\n",
    "from random import shuffle\n",
    "from collections import defaultdict\n",
    "import os, json\n",
    "from datetime import datetime\n",
    "import matplotlib.ticker as mticker\n",
    "from matplotlib.ticker import MaxNLocator\n",
    "pd.options.display.float_format = '{:,.2f}'.format\n",
    "import matplotlib.pyplot as plt\n",
    "from matplotlib.patches import Rectangle\n",
    "import random, json\n",
    "from tqdm import trange, tqdm\n",
    "from operator import itemgetter\n",
    "from analyzer import *\n",
    "# import query_gen\n",
    "\n",
    "# sns.set(style='ticks', palette='coolwarm') #this overwrites matplotlib setting so make it run first \n",
    "sns.set(style='ticks', palette='Paired') #this overwrites matplotlib setting so make it run first \n",
    "\n",
    "# def set_font():\n",
    "import matplotlib\n",
    "# http://ishxiao.com/blog/python/2017/07/23/how-to-change-the-font-size-on-a-matplotlib-plot.html\n",
    "\n",
    "font = {'weight' : 'bold',\n",
    "#         'size'   : 20,\n",
    "       'family': 'Linux Libertine O'}\n",
    "matplotlib.rc('font', **font)"
   ]
  },
  {
   "cell_type": "code",
   "execution_count": 46,
   "metadata": {},
   "outputs": [],
   "source": [
    "\n",
    "def load_and_merge_csv(percentage):\n",
    "    # load all the files and merge them together because we have different files representing different partition type.\n",
    "    baseline_perf = defaultdict(dict)\n",
    "    path = 'results/deepdbtaxi/taxi_model-'+str(percentage)+\".csv\"\n",
    "#     print(path)\n",
    "    df = pd.read_csv(path)\n",
    "#     print(df.head())\n",
    "    re100 = df['average_relative_error'] #percentage\n",
    "    latency = df['latency'] #in seconds\n",
    "    return list(re100), list(latency)\n"
   ]
  },
  {
   "cell_type": "code",
   "execution_count": 47,
   "metadata": {},
   "outputs": [
    {
     "name": "stdout",
     "output_type": "stream",
     "text": [
      "Relative Error\n",
      "0.12507444216021404\n",
      "0.12165419963277156\n",
      "0.11607646576606476\n",
      "0.12482357033396557\n",
      "0.12182195411569281\n",
      "0.12827237531511396\n",
      "0.12880593762350562\n",
      "0.12740804311755044\n",
      "0.12454713186128373\n",
      "Latency\n",
      "0.01030661375419004\n",
      "0.009056751508382149\n",
      "0.008637920890003443\n",
      "0.008324268395372201\n",
      "0.006801584658329375\n",
      "0.008420225026027765\n",
      "0.00876794955355581\n",
      "0.007252483597316313\n",
      "0.006236395449202973\n"
     ]
    }
   ],
   "source": [
    "perf={}\n",
    "lat = {}\n",
    "print(\"Relative Error\")\n",
    "for sc in range(1, 10):\n",
    "    k = sc/10\n",
    "    perf[k], lat[k] = load_and_merge_csv(k)\n",
    "    print(np.percentile(perf[k], 95)/100)\n",
    "\n",
    "print(\"Latency\")\n",
    "for sc in range(1, 10):\n",
    "    k = sc/10\n",
    "    perf[k], lat[k] = load_and_merge_csv(k)\n",
    "    print(np.mean(lat[k]))\n"
   ]
  },
  {
   "cell_type": "code",
   "execution_count": 58,
   "metadata": {},
   "outputs": [],
   "source": [
    "\n",
    "def load_and_merge_nd_csv(percentage):\n",
    "    # load all the files and merge them together because we have different files representing different partition type.\n",
    "    baseline_perf = defaultdict(dict)\n",
    "    path = 'results/etfND/deepdb/etf_model-'+str(percentage)+\".csv\"\n",
    "#     print(path)\n",
    "    df = pd.read_csv(path)\n",
    "#     print(df.head())\n",
    "    re100 = df['average_relative_error'] #percentage\n",
    "    latency = df['latency'] #in seconds\n",
    "    return list(re100), list(latency)\n"
   ]
  },
  {
   "cell_type": "code",
   "execution_count": 85,
   "metadata": {},
   "outputs": [
    {
     "name": "stdout",
     "output_type": "stream",
     "text": [
      "P50 Relative Error\n",
      "0.0\n",
      "0.0\n",
      "0.22497485777035364\n",
      "0.24481150613554234\n",
      "0.33369246744670833\n",
      "0.3310744986834756\n",
      "0.32936472933060196\n",
      "0.3307864951564559\n",
      "0.2923331575981733\n",
      "Latency\n",
      "0.012469037633331027\n",
      "0.012030397298221942\n",
      "0.013770206679478265\n",
      "0.012087977092713118\n",
      "0.01298266895324923\n",
      "0.013189187979442067\n",
      "0.013784133938548621\n",
      "0.013806879842130002\n",
      "0.012652351679687854\n"
     ]
    }
   ],
   "source": [
    "perf={}\n",
    "lat = {}\n",
    "percentile=50\n",
    "print(\"P\"+str(percentile)+\" Relative Error\")\n",
    "for sc in range(1, 10):\n",
    "    k = sc/10\n",
    "    perf[k], lat[k] = load_and_merge_nd_csv(k)\n",
    "    print(np.percentile(perf[k], percentile)/100)\n",
    "\n",
    "print(\"Latency\")\n",
    "for sc in range(1, 10):\n",
    "    k = sc/10\n",
    "    perf[k], lat[k] = load_and_merge_nd_csv(k)\n",
    "    print(np.mean(lat[k]))\n"
   ]
  },
  {
   "cell_type": "code",
   "execution_count": 57,
   "metadata": {},
   "outputs": [
    {
     "name": "stdout",
     "output_type": "stream",
     "text": [
      "ls: cannot access 'results/etfND/deepdb/eft_model-0*': No such file or directory\n"
     ]
    }
   ],
   "source": [
    "!ls results/etfND/deepdb/eft_\n"
   ]
  },
  {
   "cell_type": "code",
   "execution_count": null,
   "metadata": {},
   "outputs": [],
   "source": []
  }
 ],
 "metadata": {
  "kernelspec": {
   "display_name": "Python 3",
   "language": "python",
   "name": "python3"
  },
  "language_info": {
   "codemirror_mode": {
    "name": "ipython",
    "version": 3
   },
   "file_extension": ".py",
   "mimetype": "text/x-python",
   "name": "python",
   "nbconvert_exporter": "python",
   "pygments_lexer": "ipython3",
   "version": "3.7.4"
  }
 },
 "nbformat": 4,
 "nbformat_minor": 4
}
